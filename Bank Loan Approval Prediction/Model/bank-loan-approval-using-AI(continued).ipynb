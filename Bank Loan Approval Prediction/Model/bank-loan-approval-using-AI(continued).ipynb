{
 "cells": [
  {
   "cell_type": "code",
   "execution_count": 1,
   "id": "0705b383",
   "metadata": {},
   "outputs": [
    {
     "name": "stdout",
     "output_type": "stream",
     "text": [
      "WARNING:tensorflow:From E:\\anaconda3\\lib\\site-packages\\keras\\src\\losses.py:2976: The name tf.losses.sparse_softmax_cross_entropy is deprecated. Please use tf.compat.v1.losses.sparse_softmax_cross_entropy instead.\n",
      "\n"
     ]
    }
   ],
   "source": [
    "import pandas as pd\n",
    "import numpy as np\n",
    "import seaborn as sns\n",
    "import matplotlib.pyplot as plt\n",
    "from sklearn.preprocessing import StandardScaler, LabelEncoder\n",
    "from sklearn.model_selection import train_test_split\n",
    "from sklearn.neural_network import MLPClassifier\n",
    "from sklearn.metrics import classification_report ,confusion_matrix\n",
    "from sklearn.metrics import accuracy_score, confusion_matrix\n",
    "\n",
    "from tensorflow.keras.models import Sequential\n",
    "from tensorflow.keras.layers import Dense, Dropout,Conv1D,MaxPooling1D,Flatten,LSTM,SimpleRNN\n",
    "from tensorflow.keras.optimizers import Adam\n",
    "from tensorflow.keras.callbacks import EarlyStopping\n",
    "from tensorflow.keras.metrics import Precision, Recall"
   ]
  },
  {
   "cell_type": "code",
   "execution_count": 2,
   "id": "6ec0de93",
   "metadata": {},
   "outputs": [],
   "source": [
    "bank_df = pd.read_csv('UniversalBank.csv')"
   ]
  },
  {
   "cell_type": "markdown",
   "id": "6f6c5825",
   "metadata": {},
   "source": [
    "## Exploratory Data Analysis"
   ]
  },
  {
   "cell_type": "code",
   "execution_count": 28,
   "id": "bc1ce29c",
   "metadata": {},
   "outputs": [
    {
     "name": "stdout",
     "output_type": "stream",
     "text": [
      "<class 'pandas.core.frame.DataFrame'>\n",
      "RangeIndex: 5000 entries, 0 to 4999\n",
      "Data columns (total 14 columns):\n",
      " #   Column              Non-Null Count  Dtype  \n",
      "---  ------              --------------  -----  \n",
      " 0   ID                  5000 non-null   int64  \n",
      " 1   Age                 5000 non-null   int64  \n",
      " 2   Experience          5000 non-null   int64  \n",
      " 3   Income              5000 non-null   int64  \n",
      " 4   ZIP Code            5000 non-null   int64  \n",
      " 5   Family              5000 non-null   int64  \n",
      " 6   CCAvg               5000 non-null   float64\n",
      " 7   Education           5000 non-null   int64  \n",
      " 8   Mortgage            5000 non-null   int64  \n",
      " 9   Personal Loan       5000 non-null   int64  \n",
      " 10  Securities Account  5000 non-null   int64  \n",
      " 11  CD Account          5000 non-null   int64  \n",
      " 12  Online              5000 non-null   int64  \n",
      " 13  CreditCard          5000 non-null   int64  \n",
      "dtypes: float64(1), int64(13)\n",
      "memory usage: 547.0 KB\n"
     ]
    }
   ],
   "source": [
    "bank_df.info()"
   ]
  },
  {
   "cell_type": "code",
   "execution_count": 3,
   "id": "4370fda9",
   "metadata": {},
   "outputs": [
    {
     "data": {
      "text/html": [
       "<div>\n",
       "<style scoped>\n",
       "    .dataframe tbody tr th:only-of-type {\n",
       "        vertical-align: middle;\n",
       "    }\n",
       "\n",
       "    .dataframe tbody tr th {\n",
       "        vertical-align: top;\n",
       "    }\n",
       "\n",
       "    .dataframe thead th {\n",
       "        text-align: right;\n",
       "    }\n",
       "</style>\n",
       "<table border=\"1\" class=\"dataframe\">\n",
       "  <thead>\n",
       "    <tr style=\"text-align: right;\">\n",
       "      <th></th>\n",
       "      <th>ID</th>\n",
       "      <th>Age</th>\n",
       "      <th>Experience</th>\n",
       "      <th>Income</th>\n",
       "      <th>ZIP Code</th>\n",
       "      <th>Family</th>\n",
       "      <th>CCAvg</th>\n",
       "      <th>Education</th>\n",
       "      <th>Mortgage</th>\n",
       "      <th>Personal Loan</th>\n",
       "      <th>Securities Account</th>\n",
       "      <th>CD Account</th>\n",
       "      <th>Online</th>\n",
       "      <th>CreditCard</th>\n",
       "    </tr>\n",
       "  </thead>\n",
       "  <tbody>\n",
       "    <tr>\n",
       "      <th>count</th>\n",
       "      <td>5000.000000</td>\n",
       "      <td>5000.000000</td>\n",
       "      <td>5000.000000</td>\n",
       "      <td>5000.000000</td>\n",
       "      <td>5000.000000</td>\n",
       "      <td>5000.000000</td>\n",
       "      <td>5000.000000</td>\n",
       "      <td>5000.000000</td>\n",
       "      <td>5000.000000</td>\n",
       "      <td>5000.000000</td>\n",
       "      <td>5000.000000</td>\n",
       "      <td>5000.00000</td>\n",
       "      <td>5000.000000</td>\n",
       "      <td>5000.000000</td>\n",
       "    </tr>\n",
       "    <tr>\n",
       "      <th>mean</th>\n",
       "      <td>2500.500000</td>\n",
       "      <td>45.338400</td>\n",
       "      <td>20.104600</td>\n",
       "      <td>73.774200</td>\n",
       "      <td>93152.503000</td>\n",
       "      <td>2.396400</td>\n",
       "      <td>1.937938</td>\n",
       "      <td>1.881000</td>\n",
       "      <td>56.498800</td>\n",
       "      <td>0.096000</td>\n",
       "      <td>0.104400</td>\n",
       "      <td>0.06040</td>\n",
       "      <td>0.596800</td>\n",
       "      <td>0.294000</td>\n",
       "    </tr>\n",
       "    <tr>\n",
       "      <th>std</th>\n",
       "      <td>1443.520003</td>\n",
       "      <td>11.463166</td>\n",
       "      <td>11.467954</td>\n",
       "      <td>46.033729</td>\n",
       "      <td>2121.852197</td>\n",
       "      <td>1.147663</td>\n",
       "      <td>1.747659</td>\n",
       "      <td>0.839869</td>\n",
       "      <td>101.713802</td>\n",
       "      <td>0.294621</td>\n",
       "      <td>0.305809</td>\n",
       "      <td>0.23825</td>\n",
       "      <td>0.490589</td>\n",
       "      <td>0.455637</td>\n",
       "    </tr>\n",
       "    <tr>\n",
       "      <th>min</th>\n",
       "      <td>1.000000</td>\n",
       "      <td>23.000000</td>\n",
       "      <td>-3.000000</td>\n",
       "      <td>8.000000</td>\n",
       "      <td>9307.000000</td>\n",
       "      <td>1.000000</td>\n",
       "      <td>0.000000</td>\n",
       "      <td>1.000000</td>\n",
       "      <td>0.000000</td>\n",
       "      <td>0.000000</td>\n",
       "      <td>0.000000</td>\n",
       "      <td>0.00000</td>\n",
       "      <td>0.000000</td>\n",
       "      <td>0.000000</td>\n",
       "    </tr>\n",
       "    <tr>\n",
       "      <th>25%</th>\n",
       "      <td>1250.750000</td>\n",
       "      <td>35.000000</td>\n",
       "      <td>10.000000</td>\n",
       "      <td>39.000000</td>\n",
       "      <td>91911.000000</td>\n",
       "      <td>1.000000</td>\n",
       "      <td>0.700000</td>\n",
       "      <td>1.000000</td>\n",
       "      <td>0.000000</td>\n",
       "      <td>0.000000</td>\n",
       "      <td>0.000000</td>\n",
       "      <td>0.00000</td>\n",
       "      <td>0.000000</td>\n",
       "      <td>0.000000</td>\n",
       "    </tr>\n",
       "    <tr>\n",
       "      <th>50%</th>\n",
       "      <td>2500.500000</td>\n",
       "      <td>45.000000</td>\n",
       "      <td>20.000000</td>\n",
       "      <td>64.000000</td>\n",
       "      <td>93437.000000</td>\n",
       "      <td>2.000000</td>\n",
       "      <td>1.500000</td>\n",
       "      <td>2.000000</td>\n",
       "      <td>0.000000</td>\n",
       "      <td>0.000000</td>\n",
       "      <td>0.000000</td>\n",
       "      <td>0.00000</td>\n",
       "      <td>1.000000</td>\n",
       "      <td>0.000000</td>\n",
       "    </tr>\n",
       "    <tr>\n",
       "      <th>75%</th>\n",
       "      <td>3750.250000</td>\n",
       "      <td>55.000000</td>\n",
       "      <td>30.000000</td>\n",
       "      <td>98.000000</td>\n",
       "      <td>94608.000000</td>\n",
       "      <td>3.000000</td>\n",
       "      <td>2.500000</td>\n",
       "      <td>3.000000</td>\n",
       "      <td>101.000000</td>\n",
       "      <td>0.000000</td>\n",
       "      <td>0.000000</td>\n",
       "      <td>0.00000</td>\n",
       "      <td>1.000000</td>\n",
       "      <td>1.000000</td>\n",
       "    </tr>\n",
       "    <tr>\n",
       "      <th>max</th>\n",
       "      <td>5000.000000</td>\n",
       "      <td>67.000000</td>\n",
       "      <td>43.000000</td>\n",
       "      <td>224.000000</td>\n",
       "      <td>96651.000000</td>\n",
       "      <td>4.000000</td>\n",
       "      <td>10.000000</td>\n",
       "      <td>3.000000</td>\n",
       "      <td>635.000000</td>\n",
       "      <td>1.000000</td>\n",
       "      <td>1.000000</td>\n",
       "      <td>1.00000</td>\n",
       "      <td>1.000000</td>\n",
       "      <td>1.000000</td>\n",
       "    </tr>\n",
       "  </tbody>\n",
       "</table>\n",
       "</div>"
      ],
      "text/plain": [
       "                ID          Age   Experience       Income      ZIP Code  \\\n",
       "count  5000.000000  5000.000000  5000.000000  5000.000000   5000.000000   \n",
       "mean   2500.500000    45.338400    20.104600    73.774200  93152.503000   \n",
       "std    1443.520003    11.463166    11.467954    46.033729   2121.852197   \n",
       "min       1.000000    23.000000    -3.000000     8.000000   9307.000000   \n",
       "25%    1250.750000    35.000000    10.000000    39.000000  91911.000000   \n",
       "50%    2500.500000    45.000000    20.000000    64.000000  93437.000000   \n",
       "75%    3750.250000    55.000000    30.000000    98.000000  94608.000000   \n",
       "max    5000.000000    67.000000    43.000000   224.000000  96651.000000   \n",
       "\n",
       "            Family        CCAvg    Education     Mortgage  Personal Loan  \\\n",
       "count  5000.000000  5000.000000  5000.000000  5000.000000    5000.000000   \n",
       "mean      2.396400     1.937938     1.881000    56.498800       0.096000   \n",
       "std       1.147663     1.747659     0.839869   101.713802       0.294621   \n",
       "min       1.000000     0.000000     1.000000     0.000000       0.000000   \n",
       "25%       1.000000     0.700000     1.000000     0.000000       0.000000   \n",
       "50%       2.000000     1.500000     2.000000     0.000000       0.000000   \n",
       "75%       3.000000     2.500000     3.000000   101.000000       0.000000   \n",
       "max       4.000000    10.000000     3.000000   635.000000       1.000000   \n",
       "\n",
       "       Securities Account  CD Account       Online   CreditCard  \n",
       "count         5000.000000  5000.00000  5000.000000  5000.000000  \n",
       "mean             0.104400     0.06040     0.596800     0.294000  \n",
       "std              0.305809     0.23825     0.490589     0.455637  \n",
       "min              0.000000     0.00000     0.000000     0.000000  \n",
       "25%              0.000000     0.00000     0.000000     0.000000  \n",
       "50%              0.000000     0.00000     1.000000     0.000000  \n",
       "75%              0.000000     0.00000     1.000000     1.000000  \n",
       "max              1.000000     1.00000     1.000000     1.000000  "
      ]
     },
     "execution_count": 3,
     "metadata": {},
     "output_type": "execute_result"
    }
   ],
   "source": [
    "bank_df.describe()"
   ]
  },
  {
   "cell_type": "code",
   "execution_count": 4,
   "id": "d32b118e",
   "metadata": {},
   "outputs": [
    {
     "data": {
      "text/plain": [
       "(5000, 14)"
      ]
     },
     "execution_count": 4,
     "metadata": {},
     "output_type": "execute_result"
    }
   ],
   "source": [
    "bank_df.shape"
   ]
  },
  {
   "cell_type": "code",
   "execution_count": 5,
   "id": "298056c0",
   "metadata": {},
   "outputs": [
    {
     "data": {
      "text/plain": [
       "ID                    0\n",
       "Age                   0\n",
       "Experience            0\n",
       "Income                0\n",
       "ZIP Code              0\n",
       "Family                0\n",
       "CCAvg                 0\n",
       "Education             0\n",
       "Mortgage              0\n",
       "Personal Loan         0\n",
       "Securities Account    0\n",
       "CD Account            0\n",
       "Online                0\n",
       "CreditCard            0\n",
       "dtype: int64"
      ]
     },
     "execution_count": 5,
     "metadata": {},
     "output_type": "execute_result"
    }
   ],
   "source": [
    "bank_df.isnull().sum()"
   ]
  },
  {
   "cell_type": "markdown",
   "id": "e7062f41",
   "metadata": {},
   "source": [
    "## Data Visualization"
   ]
  },
  {
   "cell_type": "code",
   "execution_count": 6,
   "id": "77bca62d",
   "metadata": {},
   "outputs": [
    {
     "data": {
      "image/png": "[encoded data removed]",
      "text/plain": [
       "<Figure size 1200x800 with 2 Axes>"
      ]
     },
     "metadata": {},
     "output_type": "display_data"
    }
   ],
   "source": [
    "correlation_matrix = bank_df.corr()\n",
    "\n",
    "plt.figure(figsize=(12, 8))\n",
    "plt.title('Correlation Matrix')\n",
    "sns.heatmap(correlation_matrix, annot=True, cmap='coolwarm', fmt=\".2f\", linewidths=0.5)\n",
    "plt.show()\n"
   ]
  },
  {
   "cell_type": "markdown",
   "id": "bbc38f0a",
   "metadata": {},
   "source": [
    "## Data Preparation"
   ]
  },
  {
   "cell_type": "code",
   "execution_count": 7,
   "id": "ae2a0e3a",
   "metadata": {},
   "outputs": [],
   "source": [
    "X = bank_df.drop(['ID', 'ZIP Code', 'Personal Loan'], axis=1)\n",
    "y = bank_df['Personal Loan']"
   ]
  },
  {
   "cell_type": "code",
   "execution_count": 8,
   "id": "0c3221c3",
   "metadata": {},
   "outputs": [],
   "source": [
    "X_train, X_test, y_train,y_test = train_test_split(X,y,test_size = 0.2, random_state = 42)"
   ]
  },
  {
   "cell_type": "code",
   "execution_count": 9,
   "id": "2ab76cc1",
   "metadata": {},
   "outputs": [
    {
     "name": "stdout",
     "output_type": "stream",
     "text": [
      "X Train Shape : (4000, 11)\n",
      "X Test Shape : (1000, 11)\n",
      "y Train Shape : (4000,)\n",
      "y Test Shape : (1000,)\n"
     ]
    }
   ],
   "source": [
    "print(\"X Train Shape :\",X_train.shape)\n",
    "print(\"X Test Shape :\",X_test.shape)\n",
    "print(\"y Train Shape :\",y_train.shape)\n",
    "print(\"y Test Shape :\",y_test.shape)"
   ]
  },
  {
   "cell_type": "markdown",
   "id": "16ca7103",
   "metadata": {},
   "source": [
    "## Multilayer Perceptron Model"
   ]
  },
  {
   "cell_type": "code",
   "execution_count": 10,
   "id": "ab91859a",
   "metadata": {},
   "outputs": [
    {
     "name": "stdout",
     "output_type": "stream",
     "text": [
      "WARNING:tensorflow:From E:\\anaconda3\\lib\\site-packages\\keras\\src\\backend.py:873: The name tf.get_default_graph is deprecated. Please use tf.compat.v1.get_default_graph instead.\n",
      "\n",
      "WARNING:tensorflow:From E:\\anaconda3\\lib\\site-packages\\keras\\src\\optimizers\\__init__.py:309: The name tf.train.Optimizer is deprecated. Please use tf.compat.v1.train.Optimizer instead.\n",
      "\n",
      "Epoch 1/50\n",
      "WARNING:tensorflow:From E:\\anaconda3\\lib\\site-packages\\keras\\src\\utils\\tf_utils.py:492: The name tf.ragged.RaggedTensorValue is deprecated. Please use tf.compat.v1.ragged.RaggedTensorValue instead.\n",
      "\n",
      "WARNING:tensorflow:From E:\\anaconda3\\lib\\site-packages\\keras\\src\\engine\\base_layer_utils.py:384: The name tf.executing_eagerly_outside_functions is deprecated. Please use tf.compat.v1.executing_eagerly_outside_functions instead.\n",
      "\n",
      "100/100 [==============================] - 2s 7ms/step - loss: 2.2199 - accuracy: 0.8203 - val_loss: 0.6853 - val_accuracy: 0.8913\n",
      "Epoch 2/50\n",
      "100/100 [==============================] - 0s 4ms/step - loss: 1.0241 - accuracy: 0.8522 - val_loss: 0.4678 - val_accuracy: 0.8737\n",
      "Epoch 3/50\n",
      "100/100 [==============================] - 0s 4ms/step - loss: 0.7130 - accuracy: 0.8659 - val_loss: 0.4613 - val_accuracy: 0.8612\n",
      "Epoch 4/50\n",
      "100/100 [==============================] - 0s 4ms/step - loss: 0.6388 - accuracy: 0.8603 - val_loss: 0.3654 - val_accuracy: 0.8963\n",
      "Epoch 5/50\n",
      "100/100 [==============================] - 0s 4ms/step - loss: 0.5536 - accuracy: 0.8653 - val_loss: 0.4783 - val_accuracy: 0.8288\n",
      "Epoch 6/50\n",
      "100/100 [==============================] - 0s 4ms/step - loss: 0.4349 - accuracy: 0.8728 - val_loss: 0.3338 - val_accuracy: 0.8813\n",
      "Epoch 7/50\n",
      "100/100 [==============================] - 0s 3ms/step - loss: 0.3841 - accuracy: 0.8809 - val_loss: 0.2887 - val_accuracy: 0.8637\n",
      "Epoch 8/50\n",
      "100/100 [==============================] - 0s 3ms/step - loss: 0.3448 - accuracy: 0.8828 - val_loss: 0.2888 - val_accuracy: 0.8950\n",
      "Epoch 9/50\n",
      "100/100 [==============================] - 0s 3ms/step - loss: 0.3315 - accuracy: 0.8853 - val_loss: 0.2436 - val_accuracy: 0.9050\n",
      "Epoch 10/50\n",
      "100/100 [==============================] - 0s 3ms/step - loss: 0.2980 - accuracy: 0.8881 - val_loss: 0.2126 - val_accuracy: 0.9100\n",
      "Epoch 11/50\n",
      "100/100 [==============================] - 0s 3ms/step - loss: 0.3001 - accuracy: 0.8834 - val_loss: 0.2057 - val_accuracy: 0.9062\n",
      "Epoch 12/50\n",
      "100/100 [==============================] - 0s 3ms/step - loss: 0.2627 - accuracy: 0.8947 - val_loss: 0.1999 - val_accuracy: 0.9162\n",
      "Epoch 13/50\n",
      "100/100 [==============================] - 0s 3ms/step - loss: 0.2542 - accuracy: 0.8909 - val_loss: 0.1999 - val_accuracy: 0.9112\n",
      "Epoch 14/50\n",
      "100/100 [==============================] - 0s 3ms/step - loss: 0.2445 - accuracy: 0.8984 - val_loss: 0.1993 - val_accuracy: 0.9087\n",
      "Epoch 15/50\n",
      "100/100 [==============================] - 0s 4ms/step - loss: 0.2427 - accuracy: 0.8988 - val_loss: 0.1915 - val_accuracy: 0.9125\n",
      "Epoch 16/50\n",
      "100/100 [==============================] - 0s 3ms/step - loss: 0.2404 - accuracy: 0.8972 - val_loss: 0.2028 - val_accuracy: 0.9087\n",
      "Epoch 17/50\n",
      "100/100 [==============================] - 0s 3ms/step - loss: 0.2132 - accuracy: 0.9059 - val_loss: 0.2035 - val_accuracy: 0.9075\n",
      "Epoch 18/50\n",
      "100/100 [==============================] - 0s 3ms/step - loss: 0.2207 - accuracy: 0.9053 - val_loss: 0.2064 - val_accuracy: 0.9087\n",
      "32/32 [==============================] - 0s 2ms/step\n",
      "MLP Model Accuracy: 0.901\n"
     ]
    }
   ],
   "source": [
    "mlp_model = Sequential([\n",
    "    Dense(64, activation='relu', input_dim=X_train.shape[1]),\n",
    "    Dropout(0.5),\n",
    "    Dense(32, activation='relu'),\n",
    "    Dense(1, activation='sigmoid')\n",
    "])\n",
    "\n",
    "mlp_model.compile(optimizer='adam', loss='binary_crossentropy', metrics=['accuracy'])\n",
    "\n",
    "# Train MLP Model\n",
    "mlp_model.fit(X_train, y_train, epochs=50, batch_size=32, validation_split=0.2, callbacks=[EarlyStopping(patience=3)])\n",
    "\n",
    "# Evaluate MLP Model\n",
    "y_pred_mlp = mlp_model.predict(X_test)\n",
    "y_pred_mlp = (y_pred_mlp > 0.5).astype(int)\n",
    "accuracy_mlp = accuracy_score(y_test, y_pred_mlp)\n",
    "conf_matrix_mlp = confusion_matrix(y_test, y_pred_mlp)\n",
    "\n",
    "print(\"MLP Model Accuracy:\", accuracy_mlp)\n"
   ]
  },
  {
   "cell_type": "code",
   "execution_count": 11,
   "id": "06cd50ee",
   "metadata": {},
   "outputs": [
    {
     "name": "stdout",
     "output_type": "stream",
     "text": [
      "MLP Model Confusion Matrix:\n",
      "[[895   0]\n",
      " [ 99   6]]\n"
     ]
    }
   ],
   "source": [
    "print(\"MLP Model Confusion Matrix:\")\n",
    "print(conf_matrix_mlp)"
   ]
  },
  {
   "cell_type": "code",
   "execution_count": 12,
   "id": "24a938e7",
   "metadata": {},
   "outputs": [
    {
     "name": "stdout",
     "output_type": "stream",
     "text": [
      "              precision    recall  f1-score   support\n",
      "\n",
      "           0       0.90      1.00      0.95       895\n",
      "           1       1.00      0.06      0.11       105\n",
      "\n",
      "    accuracy                           0.90      1000\n",
      "   macro avg       0.95      0.53      0.53      1000\n",
      "weighted avg       0.91      0.90      0.86      1000\n",
      "\n"
     ]
    }
   ],
   "source": [
    "print(classification_report(y_test,y_pred_mlp))"
   ]
  },
  {
   "cell_type": "code",
   "execution_count": 13,
   "id": "2551c293",
   "metadata": {},
   "outputs": [
    {
     "name": "stdout",
     "output_type": "stream",
     "text": [
      "32/32 [==============================] - 0s 3ms/step - loss: 0.1902 - accuracy: 0.9010\n",
      "Evaluation results [0.19016382098197937, 0.9010000228881836]\n"
     ]
    }
   ],
   "source": [
    "evaluation_result_mlp = mlp_model.evaluate(X_test, y_test)\n",
    "print(\"Evaluation results\",evaluation_result_mlp)"
   ]
  },
  {
   "cell_type": "code",
   "execution_count": 14,
   "id": "f30a4e87",
   "metadata": {},
   "outputs": [
    {
     "name": "stdout",
     "output_type": "stream",
     "text": [
      "Test Loss: 0.19016382098197937\n",
      "Test Accuracy: 0.9010000228881836\n"
     ]
    }
   ],
   "source": [
    "loss_mlp = evaluation_result_mlp[0]\n",
    "accuracy_mlp = evaluation_result_mlp[1]\n",
    "print('Test Loss:', loss_mlp)\n",
    "print('Test Accuracy:', accuracy_mlp)"
   ]
  },
  {
   "cell_type": "markdown",
   "id": "0027fb1f",
   "metadata": {},
   "source": [
    "## Convolutional Neural Network Model"
   ]
  },
  {
   "cell_type": "code",
   "execution_count": 15,
   "id": "e5ce0cd5",
   "metadata": {},
   "outputs": [],
   "source": [
    "#reshaping input data for CNN\n",
    "X_train_cnn = np.expand_dims(X_train,axis = 2)\n",
    "X_test_cnn = np.expand_dims(X_test,axis = 2)"
   ]
  },
  {
   "cell_type": "code",
   "execution_count": 16,
   "id": "470f61c6",
   "metadata": {},
   "outputs": [
    {
     "name": "stdout",
     "output_type": "stream",
     "text": [
      "WARNING:tensorflow:From E:\\anaconda3\\lib\\site-packages\\keras\\src\\backend.py:6642: The name tf.nn.max_pool is deprecated. Please use tf.nn.max_pool2d instead.\n",
      "\n"
     ]
    }
   ],
   "source": [
    "#cnn model architecture implementation\n",
    "model= Sequential()\n",
    "model.add(Conv1D(filters = 64, kernel_size = 3, activation = 'relu', input_shape = (X_train_cnn.shape[1],1)))\n",
    "model.add(MaxPooling1D(pool_size = 2))\n",
    "model.add(Conv1D(filters = 32, kernel_size = 3, activation = 'relu'))\n",
    "model.add(MaxPooling1D(pool_size = 2))\n",
    "model.add(Flatten())\n",
    "model.add(Dense(128,activation = 'relu'))\n",
    "model.add(Dropout(0.5))\n",
    "model.add(Dense(1,activation = 'sigmoid'))\n"
   ]
  },
  {
   "cell_type": "code",
   "execution_count": 17,
   "id": "a53fef64",
   "metadata": {},
   "outputs": [
    {
     "name": "stdout",
     "output_type": "stream",
     "text": [
      "Model: \"sequential_1\"\n",
      "_________________________________________________________________\n",
      " Layer (type)                Output Shape              Param #   \n",
      "=================================================================\n",
      " conv1d (Conv1D)             (None, 9, 64)             256       \n",
      "                                                                 \n",
      " max_pooling1d (MaxPooling1  (None, 4, 64)             0         \n",
      " D)                                                              \n",
      "                                                                 \n",
      " conv1d_1 (Conv1D)           (None, 2, 32)             6176      \n",
      "                                                                 \n",
      " max_pooling1d_1 (MaxPoolin  (None, 1, 32)             0         \n",
      " g1D)                                                            \n",
      "                                                                 \n",
      " flatten (Flatten)           (None, 32)                0         \n",
      "                                                                 \n",
      " dense_3 (Dense)             (None, 128)               4224      \n",
      "                                                                 \n",
      " dropout_1 (Dropout)         (None, 128)               0         \n",
      "                                                                 \n",
      " dense_4 (Dense)             (None, 1)                 129       \n",
      "                                                                 \n",
      "=================================================================\n",
      "Total params: 10785 (42.13 KB)\n",
      "Trainable params: 10785 (42.13 KB)\n",
      "Non-trainable params: 0 (0.00 Byte)\n",
      "_________________________________________________________________\n"
     ]
    }
   ],
   "source": [
    "model.summary()"
   ]
  },
  {
   "cell_type": "code",
   "execution_count": 18,
   "id": "7d7ec838",
   "metadata": {},
   "outputs": [
    {
     "name": "stdout",
     "output_type": "stream",
     "text": [
      "Epoch 1/50\n",
      "125/125 [==============================] - 2s 9ms/step - loss: 0.4951 - accuracy: 0.8708 - precision: 0.2568 - recall: 0.2000 - val_loss: 0.3090 - val_accuracy: 0.8630 - val_precision: 0.3095 - val_recall: 0.2476\n",
      "Epoch 2/50\n",
      "125/125 [==============================] - 1s 6ms/step - loss: 0.2849 - accuracy: 0.8898 - precision: 0.3429 - recall: 0.1920 - val_loss: 0.2338 - val_accuracy: 0.8980 - val_precision: 0.5652 - val_recall: 0.1238\n",
      "Epoch 3/50\n",
      "125/125 [==============================] - 1s 6ms/step - loss: 0.2576 - accuracy: 0.8980 - precision: 0.3907 - recall: 0.1573 - val_loss: 0.2253 - val_accuracy: 0.8920 - val_precision: 0.3636 - val_recall: 0.0381\n",
      "Epoch 4/50\n",
      "125/125 [==============================] - 1s 5ms/step - loss: 0.2270 - accuracy: 0.8992 - precision: 0.4125 - recall: 0.1760 - val_loss: 0.2144 - val_accuracy: 0.8950 - val_precision: 0.0000e+00 - val_recall: 0.0000e+00\n",
      "Epoch 5/50\n",
      "125/125 [==============================] - 1s 6ms/step - loss: 0.2175 - accuracy: 0.9028 - precision: 0.4340 - recall: 0.1227 - val_loss: 0.2165 - val_accuracy: 0.8950 - val_precision: 0.0000e+00 - val_recall: 0.0000e+00\n",
      "Epoch 6/50\n",
      "125/125 [==============================] - 1s 5ms/step - loss: 0.2215 - accuracy: 0.9038 - precision: 0.4695 - recall: 0.2053 - val_loss: 0.1918 - val_accuracy: 0.8970 - val_precision: 0.5833 - val_recall: 0.0667\n",
      "Epoch 7/50\n",
      "125/125 [==============================] - 1s 5ms/step - loss: 0.2226 - accuracy: 0.9018 - precision: 0.4444 - recall: 0.1920 - val_loss: 0.2073 - val_accuracy: 0.8950 - val_precision: 0.0000e+00 - val_recall: 0.0000e+00\n",
      "Epoch 8/50\n",
      "125/125 [==============================] - 1s 6ms/step - loss: 0.2099 - accuracy: 0.9040 - precision: 0.4595 - recall: 0.1360 - val_loss: 0.1897 - val_accuracy: 0.9010 - val_precision: 0.6154 - val_recall: 0.1524\n",
      "Epoch 9/50\n",
      "125/125 [==============================] - 1s 6ms/step - loss: 0.2057 - accuracy: 0.9045 - precision: 0.4762 - recall: 0.1867 - val_loss: 0.1775 - val_accuracy: 0.8960 - val_precision: 1.0000 - val_recall: 0.0095\n",
      "Epoch 10/50\n",
      "125/125 [==============================] - 1s 6ms/step - loss: 0.1975 - accuracy: 0.9170 - precision: 0.6387 - recall: 0.2640 - val_loss: 0.1841 - val_accuracy: 0.9050 - val_precision: 0.5543 - val_recall: 0.4857\n",
      "Epoch 11/50\n",
      "125/125 [==============================] - 1s 6ms/step - loss: 0.1999 - accuracy: 0.9075 - precision: 0.5148 - recall: 0.2320 - val_loss: 0.1698 - val_accuracy: 0.9000 - val_precision: 0.8571 - val_recall: 0.0571\n",
      "Epoch 12/50\n",
      "125/125 [==============================] - 1s 6ms/step - loss: 0.1942 - accuracy: 0.9087 - precision: 0.5301 - recall: 0.2347 - val_loss: 0.1857 - val_accuracy: 0.9100 - val_precision: 1.0000 - val_recall: 0.1429\n",
      "Epoch 13/50\n",
      "125/125 [==============================] - 1s 6ms/step - loss: 0.1915 - accuracy: 0.9150 - precision: 0.6224 - recall: 0.2373 - val_loss: 0.1647 - val_accuracy: 0.9220 - val_precision: 0.6239 - val_recall: 0.6476\n",
      "Epoch 14/50\n",
      "125/125 [==============================] - 1s 5ms/step - loss: 0.1933 - accuracy: 0.9115 - precision: 0.5455 - recall: 0.3360 - val_loss: 0.1585 - val_accuracy: 0.9380 - val_precision: 0.8209 - val_recall: 0.5238\n",
      "Epoch 15/50\n",
      "125/125 [==============================] - 1s 5ms/step - loss: 0.1759 - accuracy: 0.9165 - precision: 0.6073 - recall: 0.3093 - val_loss: 0.1527 - val_accuracy: 0.9430 - val_precision: 0.7182 - val_recall: 0.7524\n",
      "Epoch 16/50\n",
      "125/125 [==============================] - 1s 5ms/step - loss: 0.1758 - accuracy: 0.9290 - precision: 0.7097 - recall: 0.4107 - val_loss: 0.1442 - val_accuracy: 0.9440 - val_precision: 0.7952 - val_recall: 0.6286\n",
      "Epoch 17/50\n",
      "125/125 [==============================] - 1s 6ms/step - loss: 0.1644 - accuracy: 0.9310 - precision: 0.6868 - recall: 0.4853 - val_loss: 0.1365 - val_accuracy: 0.9420 - val_precision: 0.9608 - val_recall: 0.4667\n",
      "Epoch 18/50\n",
      "125/125 [==============================] - 1s 6ms/step - loss: 0.1589 - accuracy: 0.9345 - precision: 0.7181 - recall: 0.4960 - val_loss: 0.1319 - val_accuracy: 0.9430 - val_precision: 0.7069 - val_recall: 0.7810\n",
      "Epoch 19/50\n",
      "125/125 [==============================] - 1s 6ms/step - loss: 0.1586 - accuracy: 0.9370 - precision: 0.7189 - recall: 0.5387 - val_loss: 0.1311 - val_accuracy: 0.9580 - val_precision: 0.9565 - val_recall: 0.6286\n",
      "Epoch 20/50\n",
      "125/125 [==============================] - 1s 5ms/step - loss: 0.1523 - accuracy: 0.9408 - precision: 0.7537 - recall: 0.5467 - val_loss: 0.1397 - val_accuracy: 0.9490 - val_precision: 0.8857 - val_recall: 0.5905\n",
      "Epoch 21/50\n",
      "125/125 [==============================] - 1s 6ms/step - loss: 0.1687 - accuracy: 0.9388 - precision: 0.7621 - recall: 0.5040 - val_loss: 0.1372 - val_accuracy: 0.9430 - val_precision: 0.6935 - val_recall: 0.8190\n",
      "Epoch 22/50\n",
      "125/125 [==============================] - 1s 5ms/step - loss: 0.1540 - accuracy: 0.9425 - precision: 0.7544 - recall: 0.5733 - val_loss: 0.1641 - val_accuracy: 0.9440 - val_precision: 0.9804 - val_recall: 0.4762\n"
     ]
    }
   ],
   "source": [
    "METRICS = ['accuracy', Precision(name='precision'), Recall(name='recall')]\n",
    "model.compile(optimizer='adam', loss='binary_crossentropy', metrics=METRICS)\n",
    "\n",
    "training = model.fit(X_train, y_train, epochs=50, batch_size=32, validation_data=(X_test, y_test), callbacks=[EarlyStopping(patience=3)])\n"
   ]
  },
  {
   "cell_type": "code",
   "execution_count": 19,
   "id": "cf0cfda0",
   "metadata": {},
   "outputs": [
    {
     "name": "stdout",
     "output_type": "stream",
     "text": [
      "32/32 [==============================] - 0s 4ms/step - loss: 0.1641 - accuracy: 0.9440 - precision: 0.9804 - recall: 0.4762\n",
      "Evaluation results of CNN [0.16413523256778717, 0.9440000057220459, 0.9803921580314636, 0.4761904776096344]\n"
     ]
    }
   ],
   "source": [
    "evaluation_result_cnn = model.evaluate(X_test, y_test)\n",
    "print(\"Evaluation results of CNN\",evaluation_result_cnn)"
   ]
  },
  {
   "cell_type": "code",
   "execution_count": 20,
   "id": "dee1023f",
   "metadata": {},
   "outputs": [
    {
     "name": "stdout",
     "output_type": "stream",
     "text": [
      "Test Loss: 0.16413523256778717\n",
      "Test Accuracy: 0.9440000057220459\n"
     ]
    }
   ],
   "source": [
    "loss_cnn = evaluation_result_cnn[0]\n",
    "accuracy_cnn = evaluation_result_cnn[1]\n",
    "print('Test Loss:', loss_cnn)\n",
    "print('Test Accuracy:', accuracy_cnn)"
   ]
  },
  {
   "cell_type": "markdown",
   "id": "3a5196a3",
   "metadata": {},
   "source": [
    "## Long Short Term Memory model"
   ]
  },
  {
   "cell_type": "code",
   "execution_count": 21,
   "id": "cabba041",
   "metadata": {},
   "outputs": [
    {
     "name": "stdout",
     "output_type": "stream",
     "text": [
      "Model: \"sequential_2\"\n",
      "_________________________________________________________________\n",
      " Layer (type)                Output Shape              Param #   \n",
      "=================================================================\n",
      " lstm (LSTM)                 (None, 64)                16896     \n",
      "                                                                 \n",
      " dense_5 (Dense)             (None, 32)                2080      \n",
      "                                                                 \n",
      " dense_6 (Dense)             (None, 1)                 33        \n",
      "                                                                 \n",
      "=================================================================\n",
      "Total params: 19009 (74.25 KB)\n",
      "Trainable params: 19009 (74.25 KB)\n",
      "Non-trainable params: 0 (0.00 Byte)\n",
      "_________________________________________________________________\n"
     ]
    }
   ],
   "source": [
    "#LSTM architecture\n",
    "X_train_array = X_train.to_numpy()\n",
    "\n",
    "# Reshape X_train_array to have the appropriate shape\n",
    "X_train_reshaped = X_train_array.reshape(X_train_array.shape[0], X_train_array.shape[1], 1)\n",
    "model_lstm = Sequential()\n",
    "model_lstm.add(LSTM(units= 64,input_shape = (X_train_reshaped.shape[1],X_train_reshaped.shape[2])))\n",
    "model_lstm.add(Dense(units = 32, activation = 'relu'))\n",
    "model_lstm.add(Dense(units = 1, activation = 'sigmoid'))\n",
    "    \n",
    "model_lstm.compile(optimizer = 'adam',loss = 'binary_crossentropy',metrics=['accuracy'])\n",
    "               \n",
    "model_lstm.summary()"
   ]
  },
  {
   "cell_type": "code",
   "execution_count": 22,
   "id": "4f31f34e",
   "metadata": {},
   "outputs": [
    {
     "name": "stdout",
     "output_type": "stream",
     "text": [
      "Epoch 1/50\n",
      "125/125 [==============================] - 3s 6ms/step - loss: 0.3208 - accuracy: 0.9062\n",
      "Epoch 2/50\n",
      "125/125 [==============================] - 1s 6ms/step - loss: 0.1943 - accuracy: 0.9118\n",
      "Epoch 3/50\n",
      "125/125 [==============================] - 1s 6ms/step - loss: 0.1710 - accuracy: 0.9247\n",
      "Epoch 4/50\n",
      "125/125 [==============================] - 1s 6ms/step - loss: 0.1595 - accuracy: 0.9350\n",
      "Epoch 5/50\n",
      "125/125 [==============================] - 1s 7ms/step - loss: 0.1465 - accuracy: 0.9388\n",
      "Epoch 6/50\n",
      "125/125 [==============================] - 1s 6ms/step - loss: 0.1547 - accuracy: 0.9345\n",
      "Epoch 7/50\n",
      "125/125 [==============================] - 1s 6ms/step - loss: 0.1389 - accuracy: 0.9430\n",
      "Epoch 8/50\n",
      "125/125 [==============================] - 1s 6ms/step - loss: 0.1371 - accuracy: 0.9467\n",
      "Epoch 9/50\n",
      "125/125 [==============================] - 1s 6ms/step - loss: 0.1279 - accuracy: 0.9510\n",
      "Epoch 10/50\n",
      "125/125 [==============================] - 1s 6ms/step - loss: 0.1218 - accuracy: 0.9507\n",
      "Epoch 11/50\n",
      "125/125 [==============================] - 1s 6ms/step - loss: 0.1299 - accuracy: 0.9503\n",
      "Epoch 12/50\n",
      "125/125 [==============================] - 1s 6ms/step - loss: 0.1168 - accuracy: 0.9553\n",
      "Epoch 13/50\n",
      "125/125 [==============================] - 1s 6ms/step - loss: 0.1094 - accuracy: 0.9613\n",
      "Epoch 14/50\n",
      "125/125 [==============================] - 1s 6ms/step - loss: 0.1149 - accuracy: 0.9570\n",
      "Epoch 15/50\n",
      "125/125 [==============================] - 1s 6ms/step - loss: 0.1098 - accuracy: 0.9622\n",
      "Epoch 16/50\n",
      "125/125 [==============================] - 1s 6ms/step - loss: 0.1066 - accuracy: 0.9632\n",
      "Epoch 17/50\n",
      "125/125 [==============================] - 1s 6ms/step - loss: 0.1068 - accuracy: 0.9640\n",
      "Epoch 18/50\n",
      "125/125 [==============================] - 1s 6ms/step - loss: 0.0987 - accuracy: 0.9670\n",
      "Epoch 19/50\n",
      "125/125 [==============================] - 1s 6ms/step - loss: 0.0919 - accuracy: 0.9653\n",
      "Epoch 20/50\n",
      "125/125 [==============================] - 1s 6ms/step - loss: 0.0929 - accuracy: 0.9668\n",
      "Epoch 21/50\n",
      "125/125 [==============================] - 1s 6ms/step - loss: 0.0864 - accuracy: 0.9682\n",
      "Epoch 22/50\n",
      "125/125 [==============================] - 1s 6ms/step - loss: 0.0888 - accuracy: 0.9680\n",
      "Epoch 23/50\n",
      "125/125 [==============================] - 1s 6ms/step - loss: 0.0753 - accuracy: 0.9753\n",
      "Epoch 24/50\n",
      "125/125 [==============================] - 1s 6ms/step - loss: 0.0768 - accuracy: 0.9747\n",
      "Epoch 25/50\n",
      "125/125 [==============================] - 1s 6ms/step - loss: 0.0710 - accuracy: 0.9737\n",
      "Epoch 26/50\n",
      "125/125 [==============================] - 1s 6ms/step - loss: 0.0636 - accuracy: 0.9770\n",
      "Epoch 27/50\n",
      "125/125 [==============================] - 1s 6ms/step - loss: 0.0615 - accuracy: 0.9800\n",
      "Epoch 28/50\n",
      "125/125 [==============================] - 1s 6ms/step - loss: 0.0628 - accuracy: 0.9783\n",
      "Epoch 29/50\n",
      "125/125 [==============================] - 1s 6ms/step - loss: 0.0607 - accuracy: 0.9762\n",
      "Epoch 30/50\n",
      "125/125 [==============================] - 1s 6ms/step - loss: 0.0651 - accuracy: 0.9768\n",
      "Epoch 31/50\n",
      "125/125 [==============================] - 1s 6ms/step - loss: 0.0623 - accuracy: 0.9750\n",
      "Epoch 32/50\n",
      "125/125 [==============================] - 1s 6ms/step - loss: 0.0568 - accuracy: 0.9812\n",
      "Epoch 33/50\n",
      "125/125 [==============================] - 1s 6ms/step - loss: 0.0573 - accuracy: 0.9783\n",
      "Epoch 34/50\n",
      "125/125 [==============================] - 1s 6ms/step - loss: 0.0513 - accuracy: 0.9812\n",
      "Epoch 35/50\n",
      "125/125 [==============================] - 1s 6ms/step - loss: 0.0620 - accuracy: 0.9790\n",
      "Epoch 36/50\n",
      "125/125 [==============================] - 1s 6ms/step - loss: 0.0585 - accuracy: 0.9793\n",
      "Epoch 37/50\n",
      "125/125 [==============================] - 1s 6ms/step - loss: 0.0567 - accuracy: 0.9775\n",
      "Epoch 38/50\n",
      "125/125 [==============================] - 1s 6ms/step - loss: 0.0500 - accuracy: 0.9820\n",
      "Epoch 39/50\n",
      "125/125 [==============================] - 1s 6ms/step - loss: 0.0526 - accuracy: 0.9812\n",
      "Epoch 40/50\n",
      "125/125 [==============================] - 1s 6ms/step - loss: 0.0520 - accuracy: 0.9803\n",
      "Epoch 41/50\n",
      "125/125 [==============================] - 1s 6ms/step - loss: 0.0494 - accuracy: 0.9805\n",
      "Epoch 42/50\n",
      "125/125 [==============================] - 1s 6ms/step - loss: 0.0577 - accuracy: 0.9800\n",
      "Epoch 43/50\n",
      "125/125 [==============================] - 1s 6ms/step - loss: 0.0519 - accuracy: 0.9820\n",
      "Epoch 44/50\n",
      "125/125 [==============================] - 1s 6ms/step - loss: 0.0485 - accuracy: 0.9825\n",
      "Epoch 45/50\n",
      "125/125 [==============================] - 1s 6ms/step - loss: 0.0456 - accuracy: 0.9833\n",
      "Epoch 46/50\n",
      "125/125 [==============================] - 1s 6ms/step - loss: 0.0552 - accuracy: 0.9793\n",
      "Epoch 47/50\n",
      "125/125 [==============================] - 1s 6ms/step - loss: 0.0725 - accuracy: 0.9753\n",
      "Epoch 48/50\n",
      "125/125 [==============================] - 1s 6ms/step - loss: 0.0457 - accuracy: 0.9822\n",
      "Epoch 49/50\n",
      "125/125 [==============================] - 1s 7ms/step - loss: 0.0482 - accuracy: 0.9805\n",
      "Epoch 50/50\n",
      "125/125 [==============================] - 1s 7ms/step - loss: 0.0509 - accuracy: 0.9810\n"
     ]
    },
    {
     "data": {
      "text/plain": [
       "<keras.src.callbacks.History at 0x2879a7527d0>"
      ]
     },
     "execution_count": 22,
     "metadata": {},
     "output_type": "execute_result"
    }
   ],
   "source": [
    "model_lstm.fit(X_train,y_train , epochs = 50, batch_size = 32)"
   ]
  },
  {
   "cell_type": "code",
   "execution_count": 23,
   "id": "c7a7074f",
   "metadata": {},
   "outputs": [
    {
     "name": "stdout",
     "output_type": "stream",
     "text": [
      "32/32 [==============================] - 1s 5ms/step - loss: 0.0459 - accuracy: 0.9850\n",
      "evaluation:  [0.04589395225048065, 0.9850000143051147]\n",
      "Test Loss: 0.04589395225048065\n",
      "Test Accuracy: 0.9850000143051147\n"
     ]
    }
   ],
   "source": [
    "evaluation_lstm = model_lstm.evaluate(X_test,y_test)\n",
    "print(\"evaluation: \",evaluation_lstm)\n",
    "loss_lstm = evaluation_lstm[0]\n",
    "accuracy_lstm = evaluation_lstm[1]\n",
    "print('Test Loss:', loss_lstm)\n",
    "print('Test Accuracy:', accuracy_lstm)"
   ]
  },
  {
   "cell_type": "markdown",
   "id": "85bd740c",
   "metadata": {},
   "source": [
    "## Recurrent Neural Network"
   ]
  },
  {
   "cell_type": "code",
   "execution_count": 24,
   "id": "f225457e",
   "metadata": {},
   "outputs": [
    {
     "name": "stdout",
     "output_type": "stream",
     "text": [
      "Epoch 1/50\n",
      "125/125 [==============================] - 2s 8ms/step - loss: 0.2856 - accuracy: 0.9005 - val_loss: 0.2120 - val_accuracy: 0.9220\n",
      "Epoch 2/50\n",
      "125/125 [==============================] - 1s 5ms/step - loss: 0.1869 - accuracy: 0.9305 - val_loss: 0.1346 - val_accuracy: 0.9480\n",
      "Epoch 3/50\n",
      "125/125 [==============================] - 1s 5ms/step - loss: 0.1432 - accuracy: 0.9460 - val_loss: 0.1451 - val_accuracy: 0.9410\n",
      "Epoch 4/50\n",
      "125/125 [==============================] - 1s 5ms/step - loss: 0.1379 - accuracy: 0.9425 - val_loss: 0.1025 - val_accuracy: 0.9570\n",
      "Epoch 5/50\n",
      "125/125 [==============================] - 1s 5ms/step - loss: 0.1217 - accuracy: 0.9570 - val_loss: 0.0977 - val_accuracy: 0.9650\n",
      "Epoch 6/50\n",
      "125/125 [==============================] - 1s 5ms/step - loss: 0.1045 - accuracy: 0.9617 - val_loss: 0.0876 - val_accuracy: 0.9650\n",
      "Epoch 7/50\n",
      "125/125 [==============================] - 1s 5ms/step - loss: 0.0884 - accuracy: 0.9707 - val_loss: 0.0627 - val_accuracy: 0.9760\n",
      "Epoch 8/50\n",
      "125/125 [==============================] - 1s 5ms/step - loss: 0.0825 - accuracy: 0.9710 - val_loss: 0.1032 - val_accuracy: 0.9600\n",
      "Epoch 9/50\n",
      "125/125 [==============================] - 1s 5ms/step - loss: 0.0814 - accuracy: 0.9718 - val_loss: 0.0739 - val_accuracy: 0.9750\n",
      "Epoch 10/50\n",
      "125/125 [==============================] - 1s 5ms/step - loss: 0.0681 - accuracy: 0.9745 - val_loss: 0.0892 - val_accuracy: 0.9690\n",
      "Epoch 11/50\n",
      "125/125 [==============================] - 1s 5ms/step - loss: 0.0749 - accuracy: 0.9730 - val_loss: 0.0624 - val_accuracy: 0.9780\n",
      "Epoch 12/50\n",
      "125/125 [==============================] - 1s 5ms/step - loss: 0.0647 - accuracy: 0.9755 - val_loss: 0.0706 - val_accuracy: 0.9790\n",
      "Epoch 13/50\n",
      "125/125 [==============================] - 1s 5ms/step - loss: 0.0722 - accuracy: 0.9725 - val_loss: 0.0546 - val_accuracy: 0.9850\n",
      "Epoch 14/50\n",
      "125/125 [==============================] - 1s 5ms/step - loss: 0.0646 - accuracy: 0.9775 - val_loss: 0.0557 - val_accuracy: 0.9850\n",
      "Epoch 15/50\n",
      "125/125 [==============================] - 1s 5ms/step - loss: 0.0618 - accuracy: 0.9778 - val_loss: 0.0584 - val_accuracy: 0.9870\n",
      "Epoch 16/50\n",
      "125/125 [==============================] - 1s 5ms/step - loss: 0.0614 - accuracy: 0.9753 - val_loss: 0.0523 - val_accuracy: 0.9830\n",
      "Epoch 17/50\n",
      "125/125 [==============================] - 1s 5ms/step - loss: 0.0640 - accuracy: 0.9755 - val_loss: 0.0516 - val_accuracy: 0.9830\n",
      "Epoch 18/50\n",
      "125/125 [==============================] - 1s 5ms/step - loss: 0.0580 - accuracy: 0.9790 - val_loss: 0.0582 - val_accuracy: 0.9820\n",
      "Epoch 19/50\n",
      "125/125 [==============================] - 1s 5ms/step - loss: 0.0595 - accuracy: 0.9772 - val_loss: 0.0489 - val_accuracy: 0.9850\n",
      "Epoch 20/50\n",
      "125/125 [==============================] - 1s 6ms/step - loss: 0.0588 - accuracy: 0.9797 - val_loss: 0.0451 - val_accuracy: 0.9870\n",
      "Epoch 21/50\n",
      "125/125 [==============================] - 1s 5ms/step - loss: 0.0529 - accuracy: 0.9790 - val_loss: 0.0438 - val_accuracy: 0.9860\n",
      "Epoch 22/50\n",
      "125/125 [==============================] - 1s 5ms/step - loss: 0.0650 - accuracy: 0.9755 - val_loss: 0.0777 - val_accuracy: 0.9700\n",
      "Epoch 23/50\n",
      "125/125 [==============================] - 1s 5ms/step - loss: 0.0589 - accuracy: 0.9797 - val_loss: 0.0636 - val_accuracy: 0.9800\n",
      "Epoch 24/50\n",
      "125/125 [==============================] - 1s 5ms/step - loss: 0.0590 - accuracy: 0.9770 - val_loss: 0.0597 - val_accuracy: 0.9820\n",
      "Epoch 25/50\n",
      "125/125 [==============================] - 1s 5ms/step - loss: 0.0558 - accuracy: 0.9795 - val_loss: 0.0685 - val_accuracy: 0.9790\n",
      "Epoch 26/50\n",
      "125/125 [==============================] - 1s 5ms/step - loss: 0.0582 - accuracy: 0.9783 - val_loss: 0.0444 - val_accuracy: 0.9860\n",
      "Epoch 27/50\n",
      "125/125 [==============================] - 1s 5ms/step - loss: 0.0596 - accuracy: 0.9793 - val_loss: 0.0521 - val_accuracy: 0.9820\n",
      "Epoch 28/50\n",
      "125/125 [==============================] - 1s 5ms/step - loss: 0.0515 - accuracy: 0.9800 - val_loss: 0.0613 - val_accuracy: 0.9800\n",
      "Epoch 29/50\n",
      "125/125 [==============================] - 1s 5ms/step - loss: 0.0476 - accuracy: 0.9830 - val_loss: 0.0459 - val_accuracy: 0.9870\n",
      "Epoch 30/50\n",
      "125/125 [==============================] - 1s 5ms/step - loss: 0.0535 - accuracy: 0.9805 - val_loss: 0.0432 - val_accuracy: 0.9850\n",
      "Epoch 31/50\n",
      "125/125 [==============================] - 1s 5ms/step - loss: 0.0453 - accuracy: 0.9830 - val_loss: 0.0545 - val_accuracy: 0.9800\n",
      "Epoch 32/50\n",
      "125/125 [==============================] - 1s 5ms/step - loss: 0.0536 - accuracy: 0.9803 - val_loss: 0.0507 - val_accuracy: 0.9830\n",
      "Epoch 33/50\n",
      "125/125 [==============================] - 1s 5ms/step - loss: 0.0441 - accuracy: 0.9833 - val_loss: 0.0645 - val_accuracy: 0.9790\n",
      "Epoch 34/50\n",
      "125/125 [==============================] - 1s 5ms/step - loss: 0.0489 - accuracy: 0.9837 - val_loss: 0.0450 - val_accuracy: 0.9870\n",
      "Epoch 35/50\n",
      "125/125 [==============================] - 1s 5ms/step - loss: 0.0473 - accuracy: 0.9822 - val_loss: 0.0477 - val_accuracy: 0.9840\n",
      "Epoch 36/50\n",
      "125/125 [==============================] - 1s 5ms/step - loss: 0.0604 - accuracy: 0.9770 - val_loss: 0.0456 - val_accuracy: 0.9870\n",
      "Epoch 37/50\n",
      "125/125 [==============================] - 1s 5ms/step - loss: 0.0463 - accuracy: 0.9820 - val_loss: 0.0849 - val_accuracy: 0.9720\n",
      "Epoch 38/50\n",
      "125/125 [==============================] - 1s 5ms/step - loss: 0.0637 - accuracy: 0.9803 - val_loss: 0.0575 - val_accuracy: 0.9820\n",
      "Epoch 39/50\n",
      "125/125 [==============================] - 1s 5ms/step - loss: 0.0429 - accuracy: 0.9845 - val_loss: 0.0540 - val_accuracy: 0.9840\n",
      "Epoch 40/50\n",
      "125/125 [==============================] - 1s 5ms/step - loss: 0.0404 - accuracy: 0.9862 - val_loss: 0.0530 - val_accuracy: 0.9830\n",
      "Epoch 41/50\n",
      "125/125 [==============================] - 1s 5ms/step - loss: 0.0486 - accuracy: 0.9827 - val_loss: 0.0594 - val_accuracy: 0.9760\n",
      "Epoch 42/50\n",
      "125/125 [==============================] - 1s 5ms/step - loss: 0.0511 - accuracy: 0.9818 - val_loss: 0.0384 - val_accuracy: 0.9870\n",
      "Epoch 43/50\n",
      "125/125 [==============================] - 1s 5ms/step - loss: 0.0420 - accuracy: 0.9852 - val_loss: 0.0567 - val_accuracy: 0.9850\n",
      "Epoch 44/50\n",
      "125/125 [==============================] - 1s 5ms/step - loss: 0.0549 - accuracy: 0.9803 - val_loss: 0.0634 - val_accuracy: 0.9840\n",
      "Epoch 45/50\n",
      "125/125 [==============================] - 1s 5ms/step - loss: 0.0424 - accuracy: 0.9845 - val_loss: 0.0437 - val_accuracy: 0.9850\n",
      "Epoch 46/50\n",
      "125/125 [==============================] - 1s 5ms/step - loss: 0.0412 - accuracy: 0.9862 - val_loss: 0.0489 - val_accuracy: 0.9860\n",
      "Epoch 47/50\n",
      "125/125 [==============================] - 1s 5ms/step - loss: 0.0369 - accuracy: 0.9868 - val_loss: 0.0477 - val_accuracy: 0.9850\n",
      "Epoch 48/50\n",
      "125/125 [==============================] - 1s 5ms/step - loss: 0.0429 - accuracy: 0.9845 - val_loss: 0.0421 - val_accuracy: 0.9860\n",
      "Epoch 49/50\n",
      "125/125 [==============================] - 1s 5ms/step - loss: 0.0506 - accuracy: 0.9840 - val_loss: 0.0542 - val_accuracy: 0.9810\n",
      "Epoch 50/50\n",
      "125/125 [==============================] - 1s 5ms/step - loss: 0.0474 - accuracy: 0.9840 - val_loss: 0.0576 - val_accuracy: 0.9780\n"
     ]
    },
    {
     "data": {
      "text/plain": [
       "<keras.src.callbacks.History at 0x287a17e2650>"
      ]
     },
     "execution_count": 24,
     "metadata": {},
     "output_type": "execute_result"
    }
   ],
   "source": [
    "#RNN Model Architecture\n",
    "model_rnn = Sequential()\n",
    "model_rnn.add(SimpleRNN(units = 64,input_shape=(X_train_reshaped.shape[1], X_train_reshaped.shape[2])))\n",
    "model_rnn.add(Dense(units = 32, activation = 'relu')) \n",
    "model_rnn.add(Dense(units = 1, activation = 'sigmoid'))\n",
    "            \n",
    "\n",
    "model_rnn.compile(optimizer = 'adam',loss = 'binary_crossentropy',metrics= ['accuracy'])\n",
    "model_rnn.fit  (X_train, y_train, epochs = 50,batch_size = 32, validation_data= (X_test,y_test)) \n",
    "    \n"
   ]
  },
  {
   "cell_type": "code",
   "execution_count": 25,
   "id": "999b0d57",
   "metadata": {},
   "outputs": [
    {
     "name": "stdout",
     "output_type": "stream",
     "text": [
      "32/32 [==============================] - 0s 4ms/step - loss: 0.0576 - accuracy: 0.9780\n",
      "evaluation:  [0.04589395225048065, 0.9850000143051147]\n",
      "Test Loss: 0.057612624019384384\n",
      "Test Accuracy: 0.9779999852180481\n"
     ]
    }
   ],
   "source": [
    "evaluation_rnn = model_rnn.evaluate(X_test,y_test)\n",
    "\n",
    "print(\"evaluation: \",evaluation_lstm)\n",
    "loss_rnn = evaluation_rnn[0]\n",
    "accuracy_rnn = evaluation_rnn[1]\n",
    "print('Test Loss:', loss_rnn)\n",
    "print('Test Accuracy:', accuracy_rnn)"
   ]
  },
  {
   "cell_type": "code",
   "execution_count": 26,
   "id": "54dddd3c",
   "metadata": {},
   "outputs": [
    {
     "name": "stdout",
     "output_type": "stream",
     "text": [
      "  Model  Accuracy      Loss\n",
      "1   MLP     0.901  0.190164\n",
      "2   CNN     0.944  0.164135\n",
      "3  LSTM     0.985  0.045894\n",
      "4   RNN     0.978  0.057613\n"
     ]
    }
   ],
   "source": [
    "results = {\n",
    "    \"Model\": [\"MLP\", \"CNN\", \"LSTM\", \"RNN\"],\n",
    "    \"Accuracy\": [accuracy_mlp, accuracy_cnn, accuracy_lstm, accuracy_rnn],\n",
    "    \"Loss\": [loss_mlp, loss_cnn, loss_lstm, loss_rnn]\n",
    "}\n",
    "\n",
    "# Create a DataFrame\n",
    "results_df = pd.DataFrame(results)\n",
    "results_df.index += 1\n",
    "# Display the DataFrame\n",
    "print(results_df)\n"
   ]
  },
  {
   "cell_type": "code",
   "execution_count": null,
   "id": "9a88a9d6",
   "metadata": {},
   "outputs": [],
   "source": []
  }
 ],
 "metadata": {
  "kernelspec": {
   "display_name": "Python 3 (ipykernel)",
   "language": "python",
   "name": "python3"
  },
  "language_info": {
   "codemirror_mode": {
    "name": "ipython",
    "version": 3
   },
   "file_extension": ".py",
   "mimetype": "text/x-python",
   "name": "python",
   "nbconvert_exporter": "python",
   "pygments_lexer": "ipython3",
   "version": "3.10.9"
  }
 },
 "nbformat": 4,
 "nbformat_minor": 5
}
